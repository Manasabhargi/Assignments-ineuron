{
 "cells": [
  {
   "cell_type": "markdown",
   "id": "30e67aaf",
   "metadata": {},
   "source": [
    "**Q1 . Try to extract data from index one to index 300 with a jump of 3 "
   ]
  },
  {
   "cell_type": "code",
   "execution_count": 2,
   "id": "16366521",
   "metadata": {},
   "outputs": [],
   "source": [
    "m = \"This is my first python programming class under the guidance of Sudhanshu sir\""
   ]
  },
  {
   "cell_type": "code",
   "execution_count": 3,
   "id": "763090c0",
   "metadata": {},
   "outputs": [
    {
     "data": {
      "text/plain": [
       "'h   r tnrrmglsnrhgdcoShs r'"
      ]
     },
     "execution_count": 3,
     "metadata": {},
     "output_type": "execute_result"
    }
   ],
   "source": [
    "m[1:300:3]"
   ]
  },
  {
   "cell_type": "markdown",
   "id": "943bf15b",
   "metadata": {},
   "source": [
    "**Q2. Try to reverse a string without using reverse function"
   ]
  },
  {
   "cell_type": "code",
   "execution_count": 4,
   "id": "b0201666",
   "metadata": {},
   "outputs": [],
   "source": [
    "s = \"Manasa\""
   ]
  },
  {
   "cell_type": "code",
   "execution_count": 5,
   "id": "d02191d6",
   "metadata": {},
   "outputs": [
    {
     "data": {
      "text/plain": [
       "'asanaM'"
      ]
     },
     "execution_count": 5,
     "metadata": {},
     "output_type": "execute_result"
    }
   ],
   "source": [
    "s[::-1]"
   ]
  },
  {
   "cell_type": "markdown",
   "id": "913691fb",
   "metadata": {},
   "source": [
    "**Q3. Try to split a string after conversion of entire string in uppercase "
   ]
  },
  {
   "cell_type": "code",
   "execution_count": 12,
   "id": "5223bfab",
   "metadata": {},
   "outputs": [],
   "source": [
    "n = m.upper()"
   ]
  },
  {
   "cell_type": "code",
   "execution_count": 13,
   "id": "2ac1070e",
   "metadata": {},
   "outputs": [
    {
     "data": {
      "text/plain": [
       "'THIS IS MY FIRST PYTHON PROGRAMMING CLASS UNDER THE GUIDANCE OF SUDHANSHU SIR'"
      ]
     },
     "execution_count": 13,
     "metadata": {},
     "output_type": "execute_result"
    }
   ],
   "source": [
    "n"
   ]
  },
  {
   "cell_type": "code",
   "execution_count": 14,
   "id": "d5baa452",
   "metadata": {},
   "outputs": [
    {
     "data": {
      "text/plain": [
       "['THIS',\n",
       " 'IS',\n",
       " 'MY',\n",
       " 'FIRST',\n",
       " 'PYTHON',\n",
       " 'PROGRAMMING',\n",
       " 'CLASS',\n",
       " 'UNDER',\n",
       " 'THE',\n",
       " 'GUIDANCE',\n",
       " 'OF',\n",
       " 'SUDHANSHU',\n",
       " 'SIR']"
      ]
     },
     "execution_count": 14,
     "metadata": {},
     "output_type": "execute_result"
    }
   ],
   "source": [
    "n.split()"
   ]
  },
  {
   "cell_type": "markdown",
   "id": "f1d3b713",
   "metadata": {},
   "source": [
    "**Q4. Try to convert the whole string into lower case "
   ]
  },
  {
   "cell_type": "code",
   "execution_count": 15,
   "id": "3310bb6c",
   "metadata": {},
   "outputs": [
    {
     "data": {
      "text/plain": [
       "'this is my first python programming class under the guidance of sudhanshu sir'"
      ]
     },
     "execution_count": 15,
     "metadata": {},
     "output_type": "execute_result"
    }
   ],
   "source": [
    "n.lower()"
   ]
  },
  {
   "cell_type": "markdown",
   "id": "849dbdea",
   "metadata": {},
   "source": [
    "**Q5. Try to capitalize the whole string "
   ]
  },
  {
   "cell_type": "code",
   "execution_count": 16,
   "id": "3e021b0b",
   "metadata": {},
   "outputs": [
    {
     "data": {
      "text/plain": [
       "'This is my first python programming class under the guidance of sudhanshu sir'"
      ]
     },
     "execution_count": 16,
     "metadata": {},
     "output_type": "execute_result"
    }
   ],
   "source": [
    "n.capitalize()"
   ]
  },
  {
   "cell_type": "markdown",
   "id": "9da903ae",
   "metadata": {},
   "source": [
    "**Q6. Write a diference between isalnum() and isalpha()\n",
    "    \n",
    "    isalnum() - Returns True if the string contains alphabets as well as numbers. Space not included. False otherwise\n",
    "    \n",
    "    isalpha() - Returns True if the string contains only alphabets from A-Z & a-z. Space not included. False othrwise.\n",
    "    \n",
    "    Examples are shown below:"
   ]
  },
  {
   "cell_type": "code",
   "execution_count": 47,
   "id": "cc2c931d",
   "metadata": {},
   "outputs": [],
   "source": [
    "a = \"To check whether the str is alpha numeric or not\"    #example for isalnum FALSE condition check"
   ]
  },
  {
   "cell_type": "code",
   "execution_count": 48,
   "id": "11978518",
   "metadata": {},
   "outputs": [
    {
     "data": {
      "text/plain": [
       "False"
      ]
     },
     "execution_count": 48,
     "metadata": {},
     "output_type": "execute_result"
    }
   ],
   "source": [
    "a.isalnum()"
   ]
  },
  {
   "cell_type": "code",
   "execution_count": 49,
   "id": "78e36100",
   "metadata": {},
   "outputs": [],
   "source": [
    "b =\"Tocheckwhetherthestrisalphanumericornot123\"           #example for isalnum TRUE condition check"
   ]
  },
  {
   "cell_type": "code",
   "execution_count": 50,
   "id": "066f237f",
   "metadata": {},
   "outputs": [
    {
     "data": {
      "text/plain": [
       "True"
      ]
     },
     "execution_count": 50,
     "metadata": {},
     "output_type": "execute_result"
    }
   ],
   "source": [
    "b.isalnum()"
   ]
  },
  {
   "cell_type": "code",
   "execution_count": 38,
   "id": "9422dd1a",
   "metadata": {},
   "outputs": [],
   "source": [
    "c = \"To check whether the string is alphabetic string or not\"        #example for isalpha FALSE condition check"
   ]
  },
  {
   "cell_type": "code",
   "execution_count": 42,
   "id": "c94602d1",
   "metadata": {},
   "outputs": [
    {
     "data": {
      "text/plain": [
       "False"
      ]
     },
     "execution_count": 42,
     "metadata": {},
     "output_type": "execute_result"
    }
   ],
   "source": [
    "c.isalpha()"
   ]
  },
  {
   "cell_type": "code",
   "execution_count": 45,
   "id": "78248e69",
   "metadata": {},
   "outputs": [],
   "source": [
    "d = \"Tocheckwhetherthestringisalphabeticstringornot\"                 #example for isalpha TRUE condition check"
   ]
  },
  {
   "cell_type": "code",
   "execution_count": 46,
   "id": "a3b0b40b",
   "metadata": {},
   "outputs": [
    {
     "data": {
      "text/plain": [
       "True"
      ]
     },
     "execution_count": 46,
     "metadata": {},
     "output_type": "execute_result"
    }
   ],
   "source": [
    "d.isalnum()"
   ]
  },
  {
   "cell_type": "markdown",
   "id": "5cfa43ec",
   "metadata": {},
   "source": [
    "**Q7. Try to give an example of expandtabs"
   ]
  },
  {
   "cell_type": "code",
   "execution_count": 55,
   "id": "65635f8b",
   "metadata": {},
   "outputs": [],
   "source": [
    "e = \"example\\tfor\\texpandtabs\\twith\\targuments\""
   ]
  },
  {
   "cell_type": "code",
   "execution_count": 56,
   "id": "4e20e8b0",
   "metadata": {},
   "outputs": [
    {
     "data": {
      "text/plain": [
       "'example for     expandtabs      with    arguments'"
      ]
     },
     "execution_count": 56,
     "metadata": {},
     "output_type": "execute_result"
    }
   ],
   "source": [
    "e.expandtabs()"
   ]
  },
  {
   "cell_type": "raw",
   "id": "ed60de5a",
   "metadata": {},
   "source": [
    "Note : tabsize is the argument passed to expandtabs and its default size is 8.\n",
    "       1st space is only one [example = 7 characters & tabsize = 8 so (8-7)]\n",
    "       2nd space is five [8-3]\n",
    "       3rd space is six [16-10] 16 because after tabsize 8 multiples of it will be considered\n",
    "       4th space is four [8-4]"
   ]
  },
  {
   "cell_type": "markdown",
   "id": "d409a8cd",
   "metadata": {},
   "source": [
    "**Q8. Give an example of strip , lstrip and rstrip "
   ]
  },
  {
   "cell_type": "code",
   "execution_count": 58,
   "id": "34b6222c",
   "metadata": {},
   "outputs": [],
   "source": [
    "f = \"   strings   in   python   \""
   ]
  },
  {
   "cell_type": "code",
   "execution_count": 59,
   "id": "678aebbb",
   "metadata": {},
   "outputs": [
    {
     "data": {
      "text/plain": [
       "'strings   in   python'"
      ]
     },
     "execution_count": 59,
     "metadata": {},
     "output_type": "execute_result"
    }
   ],
   "source": [
    "f.strip()"
   ]
  },
  {
   "cell_type": "code",
   "execution_count": 60,
   "id": "e6f88edd",
   "metadata": {},
   "outputs": [
    {
     "data": {
      "text/plain": [
       "'strings   in   python   '"
      ]
     },
     "execution_count": 60,
     "metadata": {},
     "output_type": "execute_result"
    }
   ],
   "source": [
    "f.lstrip()"
   ]
  },
  {
   "cell_type": "code",
   "execution_count": 61,
   "id": "5d0a8043",
   "metadata": {},
   "outputs": [
    {
     "data": {
      "text/plain": [
       "'   strings   in   python'"
      ]
     },
     "execution_count": 61,
     "metadata": {},
     "output_type": "execute_result"
    }
   ],
   "source": [
    "f.rstrip()"
   ]
  },
  {
   "cell_type": "markdown",
   "id": "f8619dd6",
   "metadata": {},
   "source": [
    " **Q9. Replace a string character by another character by taking your own example "
   ]
  },
  {
   "cell_type": "code",
   "execution_count": 62,
   "id": "1c78d00c",
   "metadata": {},
   "outputs": [],
   "source": [
    "g = \"Trying to use replace() method in python\""
   ]
  },
  {
   "cell_type": "code",
   "execution_count": 64,
   "id": "8ef24d0f",
   "metadata": {},
   "outputs": [
    {
     "data": {
      "text/plain": [
       "'Tried using replace() method in python'"
      ]
     },
     "execution_count": 64,
     "metadata": {},
     "output_type": "execute_result"
    }
   ],
   "source": [
    "g.replace('Trying to use','Tried using')"
   ]
  },
  {
   "cell_type": "markdown",
   "id": "f767f576",
   "metadata": {},
   "source": [
    "**Q10. Try  to give a definition of string center function with an exmple\n",
    " \n",
    "       String center() function returns the output string with mentioned width and by padding the values passed with the function arguments, by default space is considered as argument."
   ]
  },
  {
   "cell_type": "code",
   "execution_count": 65,
   "id": "e4ea8e40",
   "metadata": {},
   "outputs": [],
   "source": [
    "h = \"Python Programming\""
   ]
  },
  {
   "cell_type": "code",
   "execution_count": 66,
   "id": "018ba457",
   "metadata": {},
   "outputs": [
    {
     "data": {
      "text/plain": [
       "'           Python Programming           '"
      ]
     },
     "execution_count": 66,
     "metadata": {},
     "output_type": "execute_result"
    }
   ],
   "source": [
    "h.center(40)"
   ]
  },
  {
   "cell_type": "code",
   "execution_count": 68,
   "id": "ad066c84",
   "metadata": {},
   "outputs": [
    {
     "data": {
      "text/plain": [
       "'$$$$$$$$$$$Python Programming$$$$$$$$$$$'"
      ]
     },
     "execution_count": 68,
     "metadata": {},
     "output_type": "execute_result"
    }
   ],
   "source": [
    "h.center(40,'$')"
   ]
  },
  {
   "cell_type": "markdown",
   "id": "39d40f25",
   "metadata": {},
   "source": [
    "**Q11. Write your own definition of compiler and interpretor without copy paste from internet in your own language\n",
    "\n",
    "       Interpreter                                            \n",
    "               1. It translates the program written in any high level language to machine readable language by translating line                   by line while simultaneously executing the code.\n",
    "               2. Takes more time than compiler\n",
    "               3. example - CPython             \n",
    "                            \n",
    "       Compiler\n",
    "               1. It is a language processor which translates the high level source code to machine underdtanble language which                   is binary(0's & 1's). \n",
    "               2. It translates the source code at once and then executes and check for errors.\n",
    "               3. example - PyCharm\n",
    "       NOTE :          "
   ]
  },
  {
   "cell_type": "markdown",
   "id": "634afefb",
   "metadata": {},
   "source": [
    "**Q12. Python is a interpreted of compiled language give a clear ans with your understanding \n",
    "\n",
    "        Python is a interpreted programming language because the python program is translated and executed line by line by the interpreted, meanwhile compilation of the source code also occurs through translation process by the interpreter. Python program is converted into bytecode by the interpreter translation."
   ]
  },
  {
   "cell_type": "markdown",
   "id": "892b5abb",
   "metadata": {},
   "source": [
    "**Q13. Try to write a usecase of python with your understanding\n",
    "\n",
    "        1.With python programming language one can work quickly and effectively as the code format is in normal english.\n",
    "        2.Large data can be effectively programmed with python it has good scalability.(ex: Business Applications)\n",
    "        3.For rapid and secure web app development Python is preferred due to security and convenience.\n",
    "        4.Artificial Intelligence and Machine Learnig - text and data processing, Image recognition (ex: e-commerce)\n",
    "        "
   ]
  }
 ],
 "metadata": {
  "kernelspec": {
   "display_name": "Python 3 (ipykernel)",
   "language": "python",
   "name": "python3"
  },
  "language_info": {
   "codemirror_mode": {
    "name": "ipython",
    "version": 3
   },
   "file_extension": ".py",
   "mimetype": "text/x-python",
   "name": "python",
   "nbconvert_exporter": "python",
   "pygments_lexer": "ipython3",
   "version": "3.9.12"
  }
 },
 "nbformat": 4,
 "nbformat_minor": 5
}
